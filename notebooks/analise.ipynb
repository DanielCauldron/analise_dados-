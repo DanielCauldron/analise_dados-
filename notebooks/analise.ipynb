{
 "cells": [
  {
   "cell_type": "code",
   "execution_count": 1,
   "id": "3c664c46",
   "metadata": {},
   "outputs": [],
   "source": [
    "import pandas as pd"
   ]
  },
  {
   "cell_type": "code",
   "execution_count": 2,
   "id": "6bb549c9",
   "metadata": {},
   "outputs": [],
   "source": [
    "df = pd.read_csv('/home/caldeirao/pipeline_dados/data_raw/salaries.csv')# Dataset com salários de profissionais de tecnologia nos EUA"
   ]
  },
  {
   "cell_type": "code",
   "execution_count": 3,
   "id": "7e20b99b",
   "metadata": {},
   "outputs": [
    {
     "data": {
      "text/html": [
       "<div>\n",
       "<style scoped>\n",
       "    .dataframe tbody tr th:only-of-type {\n",
       "        vertical-align: middle;\n",
       "    }\n",
       "\n",
       "    .dataframe tbody tr th {\n",
       "        vertical-align: top;\n",
       "    }\n",
       "\n",
       "    .dataframe thead th {\n",
       "        text-align: right;\n",
       "    }\n",
       "</style>\n",
       "<table border=\"1\" class=\"dataframe\">\n",
       "  <thead>\n",
       "    <tr style=\"text-align: right;\">\n",
       "      <th></th>\n",
       "      <th>work_year</th>\n",
       "      <th>experience_level</th>\n",
       "      <th>employment_type</th>\n",
       "      <th>job_title</th>\n",
       "      <th>salary</th>\n",
       "      <th>salary_currency</th>\n",
       "      <th>salary_in_usd</th>\n",
       "      <th>employee_residence</th>\n",
       "      <th>remote_ratio</th>\n",
       "      <th>company_location</th>\n",
       "      <th>company_size</th>\n",
       "    </tr>\n",
       "  </thead>\n",
       "  <tbody>\n",
       "    <tr>\n",
       "      <th>0</th>\n",
       "      <td>2025.0</td>\n",
       "      <td>SE</td>\n",
       "      <td>FT</td>\n",
       "      <td>Solutions Engineer</td>\n",
       "      <td>214000</td>\n",
       "      <td>USD</td>\n",
       "      <td>214000</td>\n",
       "      <td>US</td>\n",
       "      <td>100</td>\n",
       "      <td>US</td>\n",
       "      <td>M</td>\n",
       "    </tr>\n",
       "    <tr>\n",
       "      <th>1</th>\n",
       "      <td>2025.0</td>\n",
       "      <td>SE</td>\n",
       "      <td>FT</td>\n",
       "      <td>Solutions Engineer</td>\n",
       "      <td>136000</td>\n",
       "      <td>USD</td>\n",
       "      <td>136000</td>\n",
       "      <td>US</td>\n",
       "      <td>100</td>\n",
       "      <td>US</td>\n",
       "      <td>M</td>\n",
       "    </tr>\n",
       "    <tr>\n",
       "      <th>2</th>\n",
       "      <td>2025.0</td>\n",
       "      <td>MI</td>\n",
       "      <td>FT</td>\n",
       "      <td>Data Engineer</td>\n",
       "      <td>158800</td>\n",
       "      <td>USD</td>\n",
       "      <td>158800</td>\n",
       "      <td>AU</td>\n",
       "      <td>0</td>\n",
       "      <td>AU</td>\n",
       "      <td>M</td>\n",
       "    </tr>\n",
       "    <tr>\n",
       "      <th>3</th>\n",
       "      <td>2025.0</td>\n",
       "      <td>MI</td>\n",
       "      <td>FT</td>\n",
       "      <td>Data Engineer</td>\n",
       "      <td>139200</td>\n",
       "      <td>USD</td>\n",
       "      <td>139200</td>\n",
       "      <td>AU</td>\n",
       "      <td>0</td>\n",
       "      <td>AU</td>\n",
       "      <td>M</td>\n",
       "    </tr>\n",
       "    <tr>\n",
       "      <th>4</th>\n",
       "      <td>2025.0</td>\n",
       "      <td>EN</td>\n",
       "      <td>FT</td>\n",
       "      <td>Data Engineer</td>\n",
       "      <td>90000</td>\n",
       "      <td>USD</td>\n",
       "      <td>90000</td>\n",
       "      <td>US</td>\n",
       "      <td>0</td>\n",
       "      <td>US</td>\n",
       "      <td>M</td>\n",
       "    </tr>\n",
       "  </tbody>\n",
       "</table>\n",
       "</div>"
      ],
      "text/plain": [
       "   work_year experience_level employment_type           job_title  salary  \\\n",
       "0     2025.0               SE              FT  Solutions Engineer  214000   \n",
       "1     2025.0               SE              FT  Solutions Engineer  136000   \n",
       "2     2025.0               MI              FT       Data Engineer  158800   \n",
       "3     2025.0               MI              FT       Data Engineer  139200   \n",
       "4     2025.0               EN              FT       Data Engineer   90000   \n",
       "\n",
       "  salary_currency  salary_in_usd employee_residence  remote_ratio  \\\n",
       "0             USD         214000                 US           100   \n",
       "1             USD         136000                 US           100   \n",
       "2             USD         158800                 AU             0   \n",
       "3             USD         139200                 AU             0   \n",
       "4             USD          90000                 US             0   \n",
       "\n",
       "  company_location company_size  \n",
       "0               US            M  \n",
       "1               US            M  \n",
       "2               AU            M  \n",
       "3               AU            M  \n",
       "4               US            M  "
      ]
     },
     "execution_count": 3,
     "metadata": {},
     "output_type": "execute_result"
    }
   ],
   "source": [
    "df.head()# Dataset com salários de profissionais de tecnologia nos EUA"
   ]
  },
  {
   "cell_type": "code",
   "execution_count": 4,
   "id": "d0f8632e",
   "metadata": {},
   "outputs": [
    {
     "name": "stdout",
     "output_type": "stream",
     "text": [
      "<class 'pandas.core.frame.DataFrame'>\n",
      "RangeIndex: 133349 entries, 0 to 133348\n",
      "Data columns (total 11 columns):\n",
      " #   Column              Non-Null Count   Dtype  \n",
      "---  ------              --------------   -----  \n",
      " 0   work_year           133339 non-null  float64\n",
      " 1   experience_level    133349 non-null  object \n",
      " 2   employment_type     133349 non-null  object \n",
      " 3   job_title           133349 non-null  object \n",
      " 4   salary              133349 non-null  int64  \n",
      " 5   salary_currency     133349 non-null  object \n",
      " 6   salary_in_usd       133349 non-null  int64  \n",
      " 7   employee_residence  133349 non-null  object \n",
      " 8   remote_ratio        133349 non-null  int64  \n",
      " 9   company_location    133349 non-null  object \n",
      " 10  company_size        133349 non-null  object \n",
      "dtypes: float64(1), int64(3), object(7)\n",
      "memory usage: 11.2+ MB\n"
     ]
    }
   ],
   "source": [
    "df.info()# Informaçõessobre o dataset"
   ]
  },
  {
   "cell_type": "code",
   "execution_count": 5,
   "id": "813233fd",
   "metadata": {},
   "outputs": [
    {
     "data": {
      "text/html": [
       "<div>\n",
       "<style scoped>\n",
       "    .dataframe tbody tr th:only-of-type {\n",
       "        vertical-align: middle;\n",
       "    }\n",
       "\n",
       "    .dataframe tbody tr th {\n",
       "        vertical-align: top;\n",
       "    }\n",
       "\n",
       "    .dataframe thead th {\n",
       "        text-align: right;\n",
       "    }\n",
       "</style>\n",
       "<table border=\"1\" class=\"dataframe\">\n",
       "  <thead>\n",
       "    <tr style=\"text-align: right;\">\n",
       "      <th></th>\n",
       "      <th>work_year</th>\n",
       "      <th>salary</th>\n",
       "      <th>salary_in_usd</th>\n",
       "      <th>remote_ratio</th>\n",
       "    </tr>\n",
       "  </thead>\n",
       "  <tbody>\n",
       "    <tr>\n",
       "      <th>count</th>\n",
       "      <td>133339.000000</td>\n",
       "      <td>1.333490e+05</td>\n",
       "      <td>133349.000000</td>\n",
       "      <td>133349.000000</td>\n",
       "    </tr>\n",
       "    <tr>\n",
       "      <th>mean</th>\n",
       "      <td>2024.358770</td>\n",
       "      <td>1.632833e+05</td>\n",
       "      <td>157617.272098</td>\n",
       "      <td>20.905669</td>\n",
       "    </tr>\n",
       "    <tr>\n",
       "      <th>std</th>\n",
       "      <td>0.680627</td>\n",
       "      <td>2.173860e+05</td>\n",
       "      <td>74288.363097</td>\n",
       "      <td>40.590044</td>\n",
       "    </tr>\n",
       "    <tr>\n",
       "      <th>min</th>\n",
       "      <td>2020.000000</td>\n",
       "      <td>1.400000e+04</td>\n",
       "      <td>15000.000000</td>\n",
       "      <td>0.000000</td>\n",
       "    </tr>\n",
       "    <tr>\n",
       "      <th>25%</th>\n",
       "      <td>2024.000000</td>\n",
       "      <td>1.060200e+05</td>\n",
       "      <td>106000.000000</td>\n",
       "      <td>0.000000</td>\n",
       "    </tr>\n",
       "    <tr>\n",
       "      <th>50%</th>\n",
       "      <td>2024.000000</td>\n",
       "      <td>1.470000e+05</td>\n",
       "      <td>146206.000000</td>\n",
       "      <td>0.000000</td>\n",
       "    </tr>\n",
       "    <tr>\n",
       "      <th>75%</th>\n",
       "      <td>2025.000000</td>\n",
       "      <td>1.990000e+05</td>\n",
       "      <td>198000.000000</td>\n",
       "      <td>0.000000</td>\n",
       "    </tr>\n",
       "    <tr>\n",
       "      <th>max</th>\n",
       "      <td>2025.000000</td>\n",
       "      <td>3.040000e+07</td>\n",
       "      <td>800000.000000</td>\n",
       "      <td>100.000000</td>\n",
       "    </tr>\n",
       "  </tbody>\n",
       "</table>\n",
       "</div>"
      ],
      "text/plain": [
       "           work_year        salary  salary_in_usd   remote_ratio\n",
       "count  133339.000000  1.333490e+05  133349.000000  133349.000000\n",
       "mean     2024.358770  1.632833e+05  157617.272098      20.905669\n",
       "std         0.680627  2.173860e+05   74288.363097      40.590044\n",
       "min      2020.000000  1.400000e+04   15000.000000       0.000000\n",
       "25%      2024.000000  1.060200e+05  106000.000000       0.000000\n",
       "50%      2024.000000  1.470000e+05  146206.000000       0.000000\n",
       "75%      2025.000000  1.990000e+05  198000.000000       0.000000\n",
       "max      2025.000000  3.040000e+07  800000.000000     100.000000"
      ]
     },
     "execution_count": 5,
     "metadata": {},
     "output_type": "execute_result"
    }
   ],
   "source": [
    "df.describe()# Estatísticas descritivas do dataset"
   ]
  },
  {
   "cell_type": "code",
   "execution_count": 6,
   "id": "6bbca58d",
   "metadata": {},
   "outputs": [
    {
     "data": {
      "text/plain": [
       "(133349, 11)"
      ]
     },
     "execution_count": 6,
     "metadata": {},
     "output_type": "execute_result"
    }
   ],
   "source": [
    "df.shape# Formato do dataset"
   ]
  },
  {
   "cell_type": "code",
   "execution_count": 7,
   "id": "ab92cac3",
   "metadata": {},
   "outputs": [
    {
     "name": "stdout",
     "output_type": "stream",
     "text": [
      "linhas: 133349 colunas: 11\n"
     ]
    }
   ],
   "source": [
    "linhas,colunas = df.shape[0], df.shape[1]# linhas e colunas do dataset\n",
    "print('linhas:',linhas,'colunas:',colunas)# mostrar linhas e colunas"
   ]
  },
  {
   "cell_type": "code",
   "execution_count": 8,
   "id": "2391f473",
   "metadata": {},
   "outputs": [
    {
     "data": {
      "text/plain": [
       "Index(['work_year', 'experience_level', 'employment_type', 'job_title',\n",
       "       'salary', 'salary_currency', 'salary_in_usd', 'employee_residence',\n",
       "       'remote_ratio', 'company_location', 'company_size'],\n",
       "      dtype='object')"
      ]
     },
     "execution_count": 8,
     "metadata": {},
     "output_type": "execute_result"
    }
   ],
   "source": [
    "df.columns# Colunas do dataset"
   ]
  },
  {
   "cell_type": "markdown",
   "id": "6b341122",
   "metadata": {
    "notebookRunGroups": {
     "groupValue": "1"
    }
   },
   "source": [
    "                                           Renomeando as colunas do DataFrame"
   ]
  },
  {
   "cell_type": "code",
   "execution_count": 9,
   "id": "e3a991de",
   "metadata": {},
   "outputs": [
    {
     "data": {
      "text/html": [
       "<div>\n",
       "<style scoped>\n",
       "    .dataframe tbody tr th:only-of-type {\n",
       "        vertical-align: middle;\n",
       "    }\n",
       "\n",
       "    .dataframe tbody tr th {\n",
       "        vertical-align: top;\n",
       "    }\n",
       "\n",
       "    .dataframe thead th {\n",
       "        text-align: right;\n",
       "    }\n",
       "</style>\n",
       "<table border=\"1\" class=\"dataframe\">\n",
       "  <thead>\n",
       "    <tr style=\"text-align: right;\">\n",
       "      <th></th>\n",
       "      <th>ano_trabalho</th>\n",
       "      <th>nivel_experiencia</th>\n",
       "      <th>tipo_contratacao</th>\n",
       "      <th>cargo</th>\n",
       "      <th>salario</th>\n",
       "      <th>moeda_salario</th>\n",
       "      <th>salario_usd</th>\n",
       "      <th>residencia_funcionario</th>\n",
       "      <th>percentual_remoto</th>\n",
       "      <th>local_empresa</th>\n",
       "      <th>porte_empresa</th>\n",
       "    </tr>\n",
       "  </thead>\n",
       "  <tbody>\n",
       "    <tr>\n",
       "      <th>0</th>\n",
       "      <td>2025.0</td>\n",
       "      <td>SE</td>\n",
       "      <td>FT</td>\n",
       "      <td>Solutions Engineer</td>\n",
       "      <td>214000</td>\n",
       "      <td>USD</td>\n",
       "      <td>214000</td>\n",
       "      <td>US</td>\n",
       "      <td>100</td>\n",
       "      <td>US</td>\n",
       "      <td>M</td>\n",
       "    </tr>\n",
       "    <tr>\n",
       "      <th>1</th>\n",
       "      <td>2025.0</td>\n",
       "      <td>SE</td>\n",
       "      <td>FT</td>\n",
       "      <td>Solutions Engineer</td>\n",
       "      <td>136000</td>\n",
       "      <td>USD</td>\n",
       "      <td>136000</td>\n",
       "      <td>US</td>\n",
       "      <td>100</td>\n",
       "      <td>US</td>\n",
       "      <td>M</td>\n",
       "    </tr>\n",
       "    <tr>\n",
       "      <th>2</th>\n",
       "      <td>2025.0</td>\n",
       "      <td>MI</td>\n",
       "      <td>FT</td>\n",
       "      <td>Data Engineer</td>\n",
       "      <td>158800</td>\n",
       "      <td>USD</td>\n",
       "      <td>158800</td>\n",
       "      <td>AU</td>\n",
       "      <td>0</td>\n",
       "      <td>AU</td>\n",
       "      <td>M</td>\n",
       "    </tr>\n",
       "    <tr>\n",
       "      <th>3</th>\n",
       "      <td>2025.0</td>\n",
       "      <td>MI</td>\n",
       "      <td>FT</td>\n",
       "      <td>Data Engineer</td>\n",
       "      <td>139200</td>\n",
       "      <td>USD</td>\n",
       "      <td>139200</td>\n",
       "      <td>AU</td>\n",
       "      <td>0</td>\n",
       "      <td>AU</td>\n",
       "      <td>M</td>\n",
       "    </tr>\n",
       "    <tr>\n",
       "      <th>4</th>\n",
       "      <td>2025.0</td>\n",
       "      <td>EN</td>\n",
       "      <td>FT</td>\n",
       "      <td>Data Engineer</td>\n",
       "      <td>90000</td>\n",
       "      <td>USD</td>\n",
       "      <td>90000</td>\n",
       "      <td>US</td>\n",
       "      <td>0</td>\n",
       "      <td>US</td>\n",
       "      <td>M</td>\n",
       "    </tr>\n",
       "  </tbody>\n",
       "</table>\n",
       "</div>"
      ],
      "text/plain": [
       "   ano_trabalho nivel_experiencia tipo_contratacao               cargo  \\\n",
       "0        2025.0                SE               FT  Solutions Engineer   \n",
       "1        2025.0                SE               FT  Solutions Engineer   \n",
       "2        2025.0                MI               FT       Data Engineer   \n",
       "3        2025.0                MI               FT       Data Engineer   \n",
       "4        2025.0                EN               FT       Data Engineer   \n",
       "\n",
       "   salario moeda_salario  salario_usd residencia_funcionario  \\\n",
       "0   214000           USD       214000                     US   \n",
       "1   136000           USD       136000                     US   \n",
       "2   158800           USD       158800                     AU   \n",
       "3   139200           USD       139200                     AU   \n",
       "4    90000           USD        90000                     US   \n",
       "\n",
       "   percentual_remoto local_empresa porte_empresa  \n",
       "0                100            US             M  \n",
       "1                100            US             M  \n",
       "2                  0            AU             M  \n",
       "3                  0            AU             M  \n",
       "4                  0            US             M  "
      ]
     },
     "execution_count": 9,
     "metadata": {},
     "output_type": "execute_result"
    }
   ],
   "source": [
    "df.rename(columns={ # Renomeando colunas para português\n",
    "    \"work_year\": \"ano_trabalho\",\n",
    "    \"experience_level\": \"nivel_experiencia\",\n",
    "    \"employment_type\": \"tipo_contratacao\",\n",
    "    \"job_title\": \"cargo\",\n",
    "    \"salary\": \"salario\",\n",
    "    \"salary_currency\": \"moeda_salario\",\n",
    "    \"salary_in_usd\": \"salario_usd\",\n",
    "    \"employee_residence\": \"residencia_funcionario\",\n",
    "    \"remote_ratio\": \"percentual_remoto\",\n",
    "    \"company_location\": \"local_empresa\",\n",
    "    \"company_size\": \"porte_empresa\"\n",
    "}, inplace=True)\n",
    "\n",
    "df.head()"
   ]
  },
  {
   "cell_type": "markdown",
   "id": "164c39ab",
   "metadata": {},
   "source": [
    "                                            Analisando quais sãos as categorias das colunas categóricas"
   ]
  },
  {
   "cell_type": "code",
   "execution_count": null,
   "id": "86f334fa",
   "metadata": {},
   "outputs": [
    {
     "data": {
      "text/plain": [
       "(nivel_experiencia\n",
       " SE    77241\n",
       " MI    40465\n",
       " EN    12443\n",
       " EX     3200\n",
       " Name: count, dtype: int64,\n",
       " tipo_contratacao\n",
       " FT    132563\n",
       " CT       394\n",
       " PT       376\n",
       " FL        16\n",
       " Name: count, dtype: int64,\n",
       " percentual_remoto\n",
       " 0      105312\n",
       " 100     27718\n",
       " 50        319\n",
       " Name: count, dtype: int64,\n",
       " porte_empresa\n",
       " M    129561\n",
       " L      3574\n",
       " S       214\n",
       " Name: count, dtype: int64)"
      ]
     },
     "execution_count": 16,
     "metadata": {},
     "output_type": "execute_result"
    }
   ],
   "source": [
    "df['nivel_experiencia'].value_counts(), df['tipo_contratacao'].value_counts(), df['percentual_remoto'].value_counts(), df['porte_empresa'].value_counts() \n",
    "#data sobre níveis de experiência, tipo de contratação, percentual de trabalho remoto e porte da empresa"
   ]
  },
  {
   "cell_type": "markdown",
   "id": "66944da8",
   "metadata": {},
   "source": [
    "                                                    Modificando o nome das categorias:"
   ]
  },
  {
   "cell_type": "code",
   "execution_count": null,
   "id": "666adc60",
   "metadata": {},
   "outputs": [
    {
     "data": {
      "text/plain": [
       "nivel_experiencia\n",
       "senior       77241\n",
       "pleno        40465\n",
       "junior       12443\n",
       "executivo     3200\n",
       "Name: count, dtype: int64"
      ]
     },
     "execution_count": 18,
     "metadata": {},
     "output_type": "execute_result"
    }
   ],
   "source": [
    "nivel_experiencia = { # Mapeando os níveis de experiência para português\n",
    "    'SE': 'senior',\n",
    "    'MI': 'pleno',\n",
    "    'EN': 'junior',\n",
    "    'EX': 'executivo'\n",
    "}\n",
    "df['nivel_experiencia'] = df['nivel_experiencia'].replace(nivel_experiencia)\n",
    "df['nivel_experiencia'].value_counts()"
   ]
  },
  {
   "cell_type": "code",
   "execution_count": 19,
   "id": "51c455d3",
   "metadata": {},
   "outputs": [
    {
     "data": {
      "text/plain": [
       "tipo_contratacao\n",
       "integral      132563\n",
       "contrato         394\n",
       "parcial          376\n",
       "freelancer        16\n",
       "Name: count, dtype: int64"
      ]
     },
     "execution_count": 19,
     "metadata": {},
     "output_type": "execute_result"
    }
   ],
   "source": [
    "tipo_contratacao = {\n",
    "    'FT': 'integral',\n",
    "    'PT': 'parcial',\n",
    "    'CT': 'contrato',\n",
    "    'FL': 'freelancer'\n",
    "}\n",
    "df['tipo_contratacao'] = df['tipo_contratacao'].replace(tipo_contratacao)\n",
    "df['tipo_contratacao'].value_counts()"
   ]
  },
  {
   "cell_type": "code",
   "execution_count": 21,
   "id": "28ee53e0",
   "metadata": {},
   "outputs": [
    {
     "data": {
      "text/plain": [
       "porte_empresa\n",
       "media      129561\n",
       "grande       3574\n",
       "pequena       214\n",
       "Name: count, dtype: int64"
      ]
     },
     "execution_count": 21,
     "metadata": {},
     "output_type": "execute_result"
    }
   ],
   "source": [
    "porte_empresa = {\n",
    "    'L': 'grande',\n",
    "    'S': 'pequena',\n",
    "    'M':\t'media'\n",
    "\n",
    "}\n",
    "df['porte_empresa'] = df['porte_empresa'].replace(porte_empresa)\n",
    "df['porte_empresa'].value_counts()"
   ]
  },
  {
   "cell_type": "code",
   "execution_count": 22,
   "id": "0123cca1",
   "metadata": {},
   "outputs": [
    {
     "data": {
      "text/plain": [
       "percentual_remoto\n",
       "presencial    105312\n",
       "remoto         27718\n",
       "hibrido          319\n",
       "Name: count, dtype: int64"
      ]
     },
     "execution_count": 22,
     "metadata": {},
     "output_type": "execute_result"
    }
   ],
   "source": [
    "percentual_remoto = {\n",
    "    0: 'presencial',\n",
    "    100: 'remoto',\n",
    "    50: 'hibrido'\n",
    "}\n",
    "\n",
    "df['percentual_remoto'] = df['percentual_remoto'].replace(percentual_remoto)\n",
    "df['percentual_remoto'].value_counts()"
   ]
  },
  {
   "cell_type": "code",
   "execution_count": 31,
   "id": "80256d16",
   "metadata": {},
   "outputs": [
    {
     "data": {
      "text/html": [
       "<div>\n",
       "<style scoped>\n",
       "    .dataframe tbody tr th:only-of-type {\n",
       "        vertical-align: middle;\n",
       "    }\n",
       "\n",
       "    .dataframe tbody tr th {\n",
       "        vertical-align: top;\n",
       "    }\n",
       "\n",
       "    .dataframe thead th {\n",
       "        text-align: right;\n",
       "    }\n",
       "</style>\n",
       "<table border=\"1\" class=\"dataframe\">\n",
       "  <thead>\n",
       "    <tr style=\"text-align: right;\">\n",
       "      <th></th>\n",
       "      <th>ano_trabalho</th>\n",
       "      <th>nivel_experiencia</th>\n",
       "      <th>tipo_contratacao</th>\n",
       "      <th>cargo</th>\n",
       "      <th>salario</th>\n",
       "      <th>moeda_salario</th>\n",
       "      <th>salario_usd</th>\n",
       "      <th>residencia_funcionario</th>\n",
       "      <th>percentual_remoto</th>\n",
       "      <th>local_empresa</th>\n",
       "      <th>porte_empresa</th>\n",
       "    </tr>\n",
       "  </thead>\n",
       "  <tbody>\n",
       "    <tr>\n",
       "      <th>0</th>\n",
       "      <td>2025.0</td>\n",
       "      <td>senior</td>\n",
       "      <td>integral</td>\n",
       "      <td>Solutions Engineer</td>\n",
       "      <td>214000</td>\n",
       "      <td>USD</td>\n",
       "      <td>214000</td>\n",
       "      <td>US</td>\n",
       "      <td>remoto</td>\n",
       "      <td>US</td>\n",
       "      <td>media</td>\n",
       "    </tr>\n",
       "    <tr>\n",
       "      <th>1</th>\n",
       "      <td>2025.0</td>\n",
       "      <td>senior</td>\n",
       "      <td>integral</td>\n",
       "      <td>Solutions Engineer</td>\n",
       "      <td>136000</td>\n",
       "      <td>USD</td>\n",
       "      <td>136000</td>\n",
       "      <td>US</td>\n",
       "      <td>remoto</td>\n",
       "      <td>US</td>\n",
       "      <td>media</td>\n",
       "    </tr>\n",
       "    <tr>\n",
       "      <th>2</th>\n",
       "      <td>2025.0</td>\n",
       "      <td>pleno</td>\n",
       "      <td>integral</td>\n",
       "      <td>Data Engineer</td>\n",
       "      <td>158800</td>\n",
       "      <td>USD</td>\n",
       "      <td>158800</td>\n",
       "      <td>AU</td>\n",
       "      <td>presencial</td>\n",
       "      <td>AU</td>\n",
       "      <td>media</td>\n",
       "    </tr>\n",
       "    <tr>\n",
       "      <th>3</th>\n",
       "      <td>2025.0</td>\n",
       "      <td>pleno</td>\n",
       "      <td>integral</td>\n",
       "      <td>Data Engineer</td>\n",
       "      <td>139200</td>\n",
       "      <td>USD</td>\n",
       "      <td>139200</td>\n",
       "      <td>AU</td>\n",
       "      <td>presencial</td>\n",
       "      <td>AU</td>\n",
       "      <td>media</td>\n",
       "    </tr>\n",
       "    <tr>\n",
       "      <th>4</th>\n",
       "      <td>2025.0</td>\n",
       "      <td>junior</td>\n",
       "      <td>integral</td>\n",
       "      <td>Data Engineer</td>\n",
       "      <td>90000</td>\n",
       "      <td>USD</td>\n",
       "      <td>90000</td>\n",
       "      <td>US</td>\n",
       "      <td>presencial</td>\n",
       "      <td>US</td>\n",
       "      <td>media</td>\n",
       "    </tr>\n",
       "  </tbody>\n",
       "</table>\n",
       "</div>"
      ],
      "text/plain": [
       "   ano_trabalho nivel_experiencia tipo_contratacao               cargo  \\\n",
       "0        2025.0            senior         integral  Solutions Engineer   \n",
       "1        2025.0            senior         integral  Solutions Engineer   \n",
       "2        2025.0             pleno         integral       Data Engineer   \n",
       "3        2025.0             pleno         integral       Data Engineer   \n",
       "4        2025.0            junior         integral       Data Engineer   \n",
       "\n",
       "   salario moeda_salario  salario_usd residencia_funcionario  \\\n",
       "0   214000           USD       214000                     US   \n",
       "1   136000           USD       136000                     US   \n",
       "2   158800           USD       158800                     AU   \n",
       "3   139200           USD       139200                     AU   \n",
       "4    90000           USD        90000                     US   \n",
       "\n",
       "  percentual_remoto local_empresa porte_empresa  \n",
       "0            remoto            US         media  \n",
       "1            remoto            US         media  \n",
       "2        presencial            AU         media  \n",
       "3        presencial            AU         media  \n",
       "4        presencial            US         media  "
      ]
     },
     "execution_count": 31,
     "metadata": {},
     "output_type": "execute_result"
    }
   ],
   "source": [
    "df.head()# Verificando as alterações feitas no dataset"
   ]
  },
  {
   "cell_type": "code",
   "execution_count": null,
   "id": "1902fc71",
   "metadata": {},
   "outputs": [
    {
     "data": {
      "text/html": [
       "<div>\n",
       "<style scoped>\n",
       "    .dataframe tbody tr th:only-of-type {\n",
       "        vertical-align: middle;\n",
       "    }\n",
       "\n",
       "    .dataframe tbody tr th {\n",
       "        vertical-align: top;\n",
       "    }\n",
       "\n",
       "    .dataframe thead th {\n",
       "        text-align: right;\n",
       "    }\n",
       "</style>\n",
       "<table border=\"1\" class=\"dataframe\">\n",
       "  <thead>\n",
       "    <tr style=\"text-align: right;\">\n",
       "      <th></th>\n",
       "      <th>nivel_experiencia</th>\n",
       "      <th>tipo_contratacao</th>\n",
       "      <th>cargo</th>\n",
       "      <th>moeda_salario</th>\n",
       "      <th>residencia_funcionario</th>\n",
       "      <th>percentual_remoto</th>\n",
       "      <th>local_empresa</th>\n",
       "      <th>porte_empresa</th>\n",
       "    </tr>\n",
       "  </thead>\n",
       "  <tbody>\n",
       "    <tr>\n",
       "      <th>count</th>\n",
       "      <td>133349</td>\n",
       "      <td>133349</td>\n",
       "      <td>133349</td>\n",
       "      <td>133349</td>\n",
       "      <td>133349</td>\n",
       "      <td>133349</td>\n",
       "      <td>133349</td>\n",
       "      <td>133349</td>\n",
       "    </tr>\n",
       "    <tr>\n",
       "      <th>unique</th>\n",
       "      <td>4</td>\n",
       "      <td>4</td>\n",
       "      <td>390</td>\n",
       "      <td>26</td>\n",
       "      <td>102</td>\n",
       "      <td>3</td>\n",
       "      <td>95</td>\n",
       "      <td>3</td>\n",
       "    </tr>\n",
       "    <tr>\n",
       "      <th>top</th>\n",
       "      <td>senior</td>\n",
       "      <td>integral</td>\n",
       "      <td>Data Scientist</td>\n",
       "      <td>USD</td>\n",
       "      <td>US</td>\n",
       "      <td>presencial</td>\n",
       "      <td>US</td>\n",
       "      <td>media</td>\n",
       "    </tr>\n",
       "    <tr>\n",
       "      <th>freq</th>\n",
       "      <td>77241</td>\n",
       "      <td>132563</td>\n",
       "      <td>17314</td>\n",
       "      <td>126140</td>\n",
       "      <td>119579</td>\n",
       "      <td>105312</td>\n",
       "      <td>119641</td>\n",
       "      <td>129561</td>\n",
       "    </tr>\n",
       "  </tbody>\n",
       "</table>\n",
       "</div>"
      ],
      "text/plain": [
       "       nivel_experiencia tipo_contratacao           cargo moeda_salario  \\\n",
       "count             133349           133349          133349        133349   \n",
       "unique                 4                4             390            26   \n",
       "top               senior         integral  Data Scientist           USD   \n",
       "freq               77241           132563           17314        126140   \n",
       "\n",
       "       residencia_funcionario percentual_remoto local_empresa porte_empresa  \n",
       "count                  133349            133349        133349        133349  \n",
       "unique                    102                 3            95             3  \n",
       "top                        US        presencial            US         media  \n",
       "freq                   119579            105312        119641        129561  "
      ]
     },
     "execution_count": 24,
     "metadata": {},
     "output_type": "execute_result"
    }
   ],
   "source": [
    "df.describe(include='object')# Estatísticas descritivas para colunas categóricas"
   ]
  },
  {
   "cell_type": "code",
   "execution_count": 34,
   "id": "b76265db",
   "metadata": {},
   "outputs": [
    {
     "data": {
      "text/html": [
       "<div>\n",
       "<style scoped>\n",
       "    .dataframe tbody tr th:only-of-type {\n",
       "        vertical-align: middle;\n",
       "    }\n",
       "\n",
       "    .dataframe tbody tr th {\n",
       "        vertical-align: top;\n",
       "    }\n",
       "\n",
       "    .dataframe thead th {\n",
       "        text-align: right;\n",
       "    }\n",
       "</style>\n",
       "<table border=\"1\" class=\"dataframe\">\n",
       "  <thead>\n",
       "    <tr style=\"text-align: right;\">\n",
       "      <th></th>\n",
       "      <th>ano_trabalho</th>\n",
       "      <th>nivel_experiencia</th>\n",
       "      <th>tipo_contratacao</th>\n",
       "      <th>cargo</th>\n",
       "      <th>salario</th>\n",
       "      <th>moeda_salario</th>\n",
       "      <th>salario_usd</th>\n",
       "      <th>residencia_funcionario</th>\n",
       "      <th>percentual_remoto</th>\n",
       "      <th>local_empresa</th>\n",
       "      <th>porte_empresa</th>\n",
       "    </tr>\n",
       "  </thead>\n",
       "  <tbody>\n",
       "    <tr>\n",
       "      <th>0</th>\n",
       "      <td>2025.0</td>\n",
       "      <td>senior</td>\n",
       "      <td>integral</td>\n",
       "      <td>Solutions Engineer</td>\n",
       "      <td>214000</td>\n",
       "      <td>USD</td>\n",
       "      <td>214000</td>\n",
       "      <td>US</td>\n",
       "      <td>remoto</td>\n",
       "      <td>US</td>\n",
       "      <td>media</td>\n",
       "    </tr>\n",
       "    <tr>\n",
       "      <th>1</th>\n",
       "      <td>2025.0</td>\n",
       "      <td>senior</td>\n",
       "      <td>integral</td>\n",
       "      <td>Solutions Engineer</td>\n",
       "      <td>136000</td>\n",
       "      <td>USD</td>\n",
       "      <td>136000</td>\n",
       "      <td>US</td>\n",
       "      <td>remoto</td>\n",
       "      <td>US</td>\n",
       "      <td>media</td>\n",
       "    </tr>\n",
       "    <tr>\n",
       "      <th>2</th>\n",
       "      <td>2025.0</td>\n",
       "      <td>pleno</td>\n",
       "      <td>integral</td>\n",
       "      <td>Data Engineer</td>\n",
       "      <td>158800</td>\n",
       "      <td>USD</td>\n",
       "      <td>158800</td>\n",
       "      <td>AU</td>\n",
       "      <td>presencial</td>\n",
       "      <td>AU</td>\n",
       "      <td>media</td>\n",
       "    </tr>\n",
       "    <tr>\n",
       "      <th>3</th>\n",
       "      <td>2025.0</td>\n",
       "      <td>pleno</td>\n",
       "      <td>integral</td>\n",
       "      <td>Data Engineer</td>\n",
       "      <td>139200</td>\n",
       "      <td>USD</td>\n",
       "      <td>139200</td>\n",
       "      <td>AU</td>\n",
       "      <td>presencial</td>\n",
       "      <td>AU</td>\n",
       "      <td>media</td>\n",
       "    </tr>\n",
       "    <tr>\n",
       "      <th>4</th>\n",
       "      <td>2025.0</td>\n",
       "      <td>junior</td>\n",
       "      <td>integral</td>\n",
       "      <td>Data Engineer</td>\n",
       "      <td>90000</td>\n",
       "      <td>USD</td>\n",
       "      <td>90000</td>\n",
       "      <td>US</td>\n",
       "      <td>presencial</td>\n",
       "      <td>US</td>\n",
       "      <td>media</td>\n",
       "    </tr>\n",
       "  </tbody>\n",
       "</table>\n",
       "</div>"
      ],
      "text/plain": [
       "   ano_trabalho nivel_experiencia tipo_contratacao               cargo  \\\n",
       "0        2025.0            senior         integral  Solutions Engineer   \n",
       "1        2025.0            senior         integral  Solutions Engineer   \n",
       "2        2025.0             pleno         integral       Data Engineer   \n",
       "3        2025.0             pleno         integral       Data Engineer   \n",
       "4        2025.0            junior         integral       Data Engineer   \n",
       "\n",
       "   salario moeda_salario  salario_usd residencia_funcionario  \\\n",
       "0   214000           USD       214000                     US   \n",
       "1   136000           USD       136000                     US   \n",
       "2   158800           USD       158800                     AU   \n",
       "3   139200           USD       139200                     AU   \n",
       "4    90000           USD        90000                     US   \n",
       "\n",
       "  percentual_remoto local_empresa porte_empresa  \n",
       "0            remoto            US         media  \n",
       "1            remoto            US         media  \n",
       "2        presencial            AU         media  \n",
       "3        presencial            AU         media  \n",
       "4        presencial            US         media  "
      ]
     },
     "execution_count": 34,
     "metadata": {},
     "output_type": "execute_result"
    }
   ],
   "source": [
    "df.head()# Verificando as alterações feitas no dataset"
   ]
  },
  {
   "cell_type": "markdown",
   "id": "f7d511d3",
   "metadata": {},
   "source": [
    "                                                Com isso já conseguimos responder algumas perguntas, como:                                      "
   ]
  },
  {
   "cell_type": "code",
   "execution_count": 27,
   "id": "9216b83c",
   "metadata": {},
   "outputs": [
    {
     "name": "stdout",
     "output_type": "stream",
     "text": [
      "O nível de experiência mais comum é: senior\n"
     ]
    }
   ],
   "source": [
    "#Qual o nível de experiência mais comum na base de dados?\n",
    "nivel_experiencia_most_common = df['nivel_experiencia'].mode()[0]\n",
    "print(f'O nível de experiência mais comum é: {nivel_experiencia_most_common}')"
   ]
  },
  {
   "cell_type": "code",
   "execution_count": 28,
   "id": "e27b651a",
   "metadata": {},
   "outputs": [
    {
     "name": "stdout",
     "output_type": "stream",
     "text": [
      "O tipo de contrato mais frequente é: integral\n"
     ]
    }
   ],
   "source": [
    "#Qual é o tipo de contrato mais frequente?\n",
    "tipo_contrato_most_common = df['tipo_contratacao'].mode()[0]\n",
    "print(f'O tipo de contrato mais frequente é: {tipo_contrato_most_common}')"
   ]
  },
  {
   "cell_type": "code",
   "execution_count": 29,
   "id": "cb3c9976",
   "metadata": {},
   "outputs": [
    {
     "name": "stdout",
     "output_type": "stream",
     "text": [
      "O cargo mais frequente é: Data Scientist\n"
     ]
    }
   ],
   "source": [
    "#Qual o cargo mais frequente na amostra?\n",
    "cargo_most_common = df['cargo'].mode()[0]\n",
    "print(f'O cargo mais frequente é: {cargo_most_common}')"
   ]
  },
  {
   "cell_type": "code",
   "execution_count": null,
   "id": "f55ec139",
   "metadata": {},
   "outputs": [
    {
     "name": "stdout",
     "output_type": "stream",
     "text": [
      "O pais mais frequente é: US\n"
     ]
    }
   ],
   "source": [
    "# De qual pais são a maioria dos profissionais da base?\n",
    "residencia_funcionario_most_common = df['residencia_funcionario'].mode()[0]\n",
    "print(f'O pais mais frequente é: {residencia_funcionario_most_common}')"
   ]
  },
  {
   "cell_type": "code",
   "execution_count": 35,
   "id": "a4146783",
   "metadata": {},
   "outputs": [
    {
     "name": "stdout",
     "output_type": "stream",
     "text": [
      "O pais onde mais empresas da amostra estão sediadas é: US\n"
     ]
    }
   ],
   "source": [
    "#Qual é o país onde mais empresas da amostra estão sediadas?\n",
    "local_empresa_most_common = df['local_empresa'].mode()[0]\n",
    "print(f'O pais onde mais empresas da amostra estão sediadas é: {local_empresa_most_common}')"
   ]
  },
  {
   "cell_type": "code",
   "execution_count": 36,
   "id": "7dc6ee1d",
   "metadata": {},
   "outputs": [
    {
     "name": "stdout",
     "output_type": "stream",
     "text": [
      "O regime de trabalho mais comum é: presencial\n"
     ]
    }
   ],
   "source": [
    "#Qual o regime de trabalho mais comum?\n",
    "percentual_remoto_most_common = df['percentual_remoto'].mode()[0]\n",
    "print(f'O regime de trabalho mais comum é: {percentual_remoto_most_common}')\n"
   ]
  },
  {
   "cell_type": "code",
   "execution_count": 38,
   "id": "e6be064f",
   "metadata": {},
   "outputs": [
    {
     "name": "stdout",
     "output_type": "stream",
     "text": [
      "O tamanho mais comum das empresas na amostra é: media\n"
     ]
    }
   ],
   "source": [
    "#Qual é o tamanho mais comum das empresas na amostra?\n",
    "porte_empresa_most_common = df['porte_empresa'].mode()[0]\n",
    "print(f'O tamanho mais comum das empresas na amostra é: {porte_empresa_most_common}')   "
   ]
  }
 ],
 "metadata": {
  "kernelspec": {
   "display_name": "env (3.12.3)",
   "language": "python",
   "name": "python3"
  },
  "language_info": {
   "codemirror_mode": {
    "name": "ipython",
    "version": 3
   },
   "file_extension": ".py",
   "mimetype": "text/x-python",
   "name": "python",
   "nbconvert_exporter": "python",
   "pygments_lexer": "ipython3",
   "version": "3.12.3"
  }
 },
 "nbformat": 4,
 "nbformat_minor": 5
}
